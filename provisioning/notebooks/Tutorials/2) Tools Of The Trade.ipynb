{
 "cells": [
  {
   "cell_type": "markdown",
   "metadata": {},
   "source": [
    "# PANDAS\n",
    "No, not [that kind of pandas](https://www.google.co.uk/search?q=pandas&source=lnms&tbm=isch&sa=X&ved=0CAcQ_AUoAWoVChMI25_rx56IxgIVUSrbCh2BQgA4&biw=960&bih=771). This kind is a [data-analysis library built for Python](http://pandas.pydata.org/).\n",
    "## So what does that mean?\n",
    "Well, it's built on a library called (Numpy)[http://www.numpy.org/] which is ***the*** scientific computing library for Python (IMHO). It's rather cool, but we only need to worry about it insofar as what it give to pandas. Pandas is a really powerful library for manipulating and processing tabular and series data; far better than any spreadsheet!"
   ]
  },
  {
   "cell_type": "code",
   "execution_count": 27,
   "metadata": {
    "collapsed": false
   },
   "outputs": [],
   "source": [
    "# First we import it.\n",
    "# The convention is to import it as the shortened 'pd'\n",
    "import pandas as pd"
   ]
  },
  {
   "cell_type": "markdown",
   "metadata": {
    "collapsed": true
   },
   "source": [
    "###First steps\n",
    "Pandas is all about Indexed data, whether in lists ('Series'), or in rows and columns ('Dataframes').\n",
    "The first step is a series. It's better than a list, because it has loads of handy methods ready to go straight out of the box *and* has some really powerful indexing built-in. It combines the properties of the list and the ordered dictionary. Shhhhweeet."
   ]
  },
  {
   "cell_type": "code",
   "execution_count": 28,
   "metadata": {
    "collapsed": false
   },
   "outputs": [
    {
     "name": "stdout",
     "output_type": "stream",
     "text": [
      "Kirk\n",
      "----------\n",
      "DS9             Cisco\n",
      "Enterprise     Archer\n",
      "Next Gen       Picard\n",
      "Original         Kirk\n",
      "Voyager       Janeway\n",
      "dtype: object\n",
      "----------\n",
      "Enterprise     Archer\n",
      "DS9             Cisco\n",
      "Voyager       Janeway\n",
      "Original         Kirk\n",
      "Next Gen       Picard\n",
      "dtype: object\n"
     ]
    }
   ],
   "source": [
    "#Indexing a Python list.\n",
    "star_trek_captains = [\"Kirk\", \"Picard\", \"Janeway\", \"Cisco\", \"Archer\"]\n",
    "star_trek_shows = [\"Original\", \"Next Gen\", \"Voyager\", \"DS9\", \"Enterprise\"]\n",
    "captains_by_show = pd.Series(data=star_trek_captains, index=star_trek_shows)\n",
    "print(my_pandas_series['Original'])\n",
    "print(\"-\"*10)\n",
    "print(my_pandas_series.sort_index())\n",
    "print(\"-\"*10)\n",
    "print(my_pandas_series.order())"
   ]
  },
  {
   "cell_type": "markdown",
   "metadata": {},
   "source": [
    "So, we've got our Captains, indexed by the series they were on. But what if we want to add some extra info? Like how many episodes they all did? It's the same *index*, because it's by show, but it won't fit in this **series** because the series is just one list, a list of names. Let's make the new **series** with the shows, and see about combining them."
   ]
  },
  {
   "cell_type": "code",
   "execution_count": 29,
   "metadata": {
    "collapsed": false
   },
   "outputs": [
    {
     "data": {
      "text/plain": [
       "Original       79\n",
       "Next Gen      176\n",
       "Voyager       168\n",
       "DS9           173\n",
       "Enterprise     97\n",
       "dtype: int64"
      ]
     },
     "execution_count": 29,
     "metadata": {},
     "output_type": "execute_result"
    }
   ],
   "source": [
    "series_episodes = [79, 176, 168, 173, 97]\n",
    "episode_count_by_show = pd.Series(data=series_episodes, index=star_trek_shows)\n",
    "episode_count_by_show"
   ]
  },
  {
   "cell_type": "code",
   "execution_count": 30,
   "metadata": {
    "collapsed": false
   },
   "outputs": [
    {
     "data": {
      "text/html": [
       "<div style=\"max-height:1000px;max-width:1500px;overflow:auto;\">\n",
       "<table border=\"1\" class=\"dataframe\">\n",
       "  <thead>\n",
       "    <tr style=\"text-align: right;\">\n",
       "      <th></th>\n",
       "      <th>0</th>\n",
       "      <th>1</th>\n",
       "    </tr>\n",
       "  </thead>\n",
       "  <tbody>\n",
       "    <tr>\n",
       "      <th>Original</th>\n",
       "      <td>Kirk</td>\n",
       "      <td>79</td>\n",
       "    </tr>\n",
       "    <tr>\n",
       "      <th>Next Gen</th>\n",
       "      <td>Picard</td>\n",
       "      <td>176</td>\n",
       "    </tr>\n",
       "    <tr>\n",
       "      <th>Voyager</th>\n",
       "      <td>Janeway</td>\n",
       "      <td>168</td>\n",
       "    </tr>\n",
       "    <tr>\n",
       "      <th>DS9</th>\n",
       "      <td>Cisco</td>\n",
       "      <td>173</td>\n",
       "    </tr>\n",
       "    <tr>\n",
       "      <th>Enterprise</th>\n",
       "      <td>Archer</td>\n",
       "      <td>97</td>\n",
       "    </tr>\n",
       "  </tbody>\n",
       "</table>\n",
       "</div>"
      ],
      "text/plain": [
       "                  0    1\n",
       "Original       Kirk   79\n",
       "Next Gen     Picard  176\n",
       "Voyager     Janeway  168\n",
       "DS9           Cisco  173\n",
       "Enterprise   Archer   97"
      ]
     },
     "execution_count": 30,
     "metadata": {},
     "output_type": "execute_result"
    }
   ],
   "source": [
    "# So, now we have two different series. Combining them could be tricky...\n",
    "# Or it could be really easy, because they share the same index!\n",
    "star_trek = pd.concat([captains_by_show, episode_count_by_show], axis=1)\n",
    "star_trek"
   ]
  },
  {
   "cell_type": "markdown",
   "metadata": {},
   "source": [
    "Ah hah! Looks like a table! Shame about the columns being labeled 0 and 1. If only pandas had a way we could name the columns..."
   ]
  },
  {
   "cell_type": "code",
   "execution_count": 31,
   "metadata": {
    "collapsed": false
   },
   "outputs": [
    {
     "data": {
      "text/html": [
       "<div style=\"max-height:1000px;max-width:1500px;overflow:auto;\">\n",
       "<table border=\"1\" class=\"dataframe\">\n",
       "  <thead>\n",
       "    <tr style=\"text-align: right;\">\n",
       "      <th></th>\n",
       "      <th>Captain</th>\n",
       "      <th>Episodes</th>\n",
       "    </tr>\n",
       "  </thead>\n",
       "  <tbody>\n",
       "    <tr>\n",
       "      <th>Original</th>\n",
       "      <td>Kirk</td>\n",
       "      <td>79</td>\n",
       "    </tr>\n",
       "    <tr>\n",
       "      <th>Next Gen</th>\n",
       "      <td>Picard</td>\n",
       "      <td>176</td>\n",
       "    </tr>\n",
       "    <tr>\n",
       "      <th>Voyager</th>\n",
       "      <td>Janeway</td>\n",
       "      <td>168</td>\n",
       "    </tr>\n",
       "    <tr>\n",
       "      <th>DS9</th>\n",
       "      <td>Cisco</td>\n",
       "      <td>173</td>\n",
       "    </tr>\n",
       "    <tr>\n",
       "      <th>Enterprise</th>\n",
       "      <td>Archer</td>\n",
       "      <td>97</td>\n",
       "    </tr>\n",
       "  </tbody>\n",
       "</table>\n",
       "</div>"
      ],
      "text/plain": [
       "            Captain  Episodes\n",
       "Original       Kirk        79\n",
       "Next Gen     Picard       176\n",
       "Voyager     Janeway       168\n",
       "DS9           Cisco       173\n",
       "Enterprise   Archer        97"
      ]
     },
     "execution_count": 31,
     "metadata": {},
     "output_type": "execute_result"
    }
   ],
   "source": [
    "star_trek.columns = ['Captain', 'Episodes']\n",
    "star_trek"
   ]
  },
  {
   "cell_type": "markdown",
   "metadata": {},
   "source": [
    "Well, whad'dya know. So what does a dataframe let us do?"
   ]
  },
  {
   "cell_type": "code",
   "execution_count": 32,
   "metadata": {
    "collapsed": false
   },
   "outputs": [
    {
     "data": {
      "text/plain": [
       "Original         Kirk\n",
       "Next Gen       Picard\n",
       "Voyager       Janeway\n",
       "DS9             Cisco\n",
       "Enterprise     Archer\n",
       "Name: Captain, dtype: object"
      ]
     },
     "execution_count": 32,
     "metadata": {},
     "output_type": "execute_result"
    }
   ],
   "source": [
    "# Get to individual columns\n",
    "star_trek['Captain']"
   ]
  },
  {
   "cell_type": "code",
   "execution_count": 33,
   "metadata": {
    "collapsed": false
   },
   "outputs": [
    {
     "data": {
      "text/html": [
       "<div style=\"max-height:1000px;max-width:1500px;overflow:auto;\">\n",
       "<table border=\"1\" class=\"dataframe\">\n",
       "  <thead>\n",
       "    <tr style=\"text-align: right;\">\n",
       "      <th></th>\n",
       "      <th>Captain</th>\n",
       "      <th>Episodes</th>\n",
       "      <th>First Aired</th>\n",
       "    </tr>\n",
       "  </thead>\n",
       "  <tbody>\n",
       "    <tr>\n",
       "      <th>Original</th>\n",
       "      <td>Kirk</td>\n",
       "      <td>79</td>\n",
       "      <td>1966</td>\n",
       "    </tr>\n",
       "    <tr>\n",
       "      <th>Next Gen</th>\n",
       "      <td>Picard</td>\n",
       "      <td>176</td>\n",
       "      <td>1987</td>\n",
       "    </tr>\n",
       "    <tr>\n",
       "      <th>Voyager</th>\n",
       "      <td>Janeway</td>\n",
       "      <td>168</td>\n",
       "      <td>1995</td>\n",
       "    </tr>\n",
       "    <tr>\n",
       "      <th>DS9</th>\n",
       "      <td>Cisco</td>\n",
       "      <td>173</td>\n",
       "      <td>1993</td>\n",
       "    </tr>\n",
       "    <tr>\n",
       "      <th>Enterprise</th>\n",
       "      <td>Archer</td>\n",
       "      <td>97</td>\n",
       "      <td>2001</td>\n",
       "    </tr>\n",
       "  </tbody>\n",
       "</table>\n",
       "</div>"
      ],
      "text/plain": [
       "            Captain  Episodes  First Aired\n",
       "Original       Kirk        79         1966\n",
       "Next Gen     Picard       176         1987\n",
       "Voyager     Janeway       168         1995\n",
       "DS9           Cisco       173         1993\n",
       "Enterprise   Archer        97         2001"
      ]
     },
     "execution_count": 33,
     "metadata": {},
     "output_type": "execute_result"
    }
   ],
   "source": [
    "# We can even add columns\n",
    "starting_year = [1966, 1987, 1995, 1993, 2001]\n",
    "star_trek['First Aired'] = starting_year\n",
    "star_trek"
   ]
  },
  {
   "cell_type": "code",
   "execution_count": 37,
   "metadata": {
    "collapsed": false
   },
   "outputs": [
    {
     "data": {
      "text/plain": [
       "Captain        Kirk\n",
       "Episodes         79\n",
       "First Aired    1966\n",
       "Name: Original, dtype: object"
      ]
     },
     "execution_count": 37,
     "metadata": {},
     "output_type": "execute_result"
    }
   ],
   "source": [
    "# We can get to rows with 'ix'\n",
    "star_trek.ix[0]"
   ]
  },
  {
   "cell_type": "code",
   "execution_count": 38,
   "metadata": {
    "collapsed": false
   },
   "outputs": [
    {
     "data": {
      "text/html": [
       "<div style=\"max-height:1000px;max-width:1500px;overflow:auto;\">\n",
       "<table border=\"1\" class=\"dataframe\">\n",
       "  <thead>\n",
       "    <tr style=\"text-align: right;\">\n",
       "      <th></th>\n",
       "      <th>Captain</th>\n",
       "      <th>Episodes</th>\n",
       "      <th>First Aired</th>\n",
       "    </tr>\n",
       "  </thead>\n",
       "  <tbody>\n",
       "    <tr>\n",
       "      <th>Original</th>\n",
       "      <td>Kirk</td>\n",
       "      <td>79</td>\n",
       "      <td>1966</td>\n",
       "    </tr>\n",
       "    <tr>\n",
       "      <th>Next Gen</th>\n",
       "      <td>Picard</td>\n",
       "      <td>176</td>\n",
       "      <td>1987</td>\n",
       "    </tr>\n",
       "  </tbody>\n",
       "</table>\n",
       "</div>"
      ],
      "text/plain": [
       "         Captain  Episodes  First Aired\n",
       "Original    Kirk        79         1966\n",
       "Next Gen  Picard       176         1987"
      ]
     },
     "execution_count": 38,
     "metadata": {},
     "output_type": "execute_result"
    }
   ],
   "source": [
    "# More than one at the same time, in fact\n",
    "star_trek.ix[0:2]"
   ]
  },
  {
   "cell_type": "code",
   "execution_count": 40,
   "metadata": {
    "collapsed": false
   },
   "outputs": [
    {
     "data": {
      "text/html": [
       "<div style=\"max-height:1000px;max-width:1500px;overflow:auto;\">\n",
       "<table border=\"1\" class=\"dataframe\">\n",
       "  <thead>\n",
       "    <tr style=\"text-align: right;\">\n",
       "      <th></th>\n",
       "      <th>Episodes</th>\n",
       "      <th>First Aired</th>\n",
       "    </tr>\n",
       "  </thead>\n",
       "  <tbody>\n",
       "    <tr>\n",
       "      <th>Original</th>\n",
       "      <td>79</td>\n",
       "      <td>1966</td>\n",
       "    </tr>\n",
       "  </tbody>\n",
       "</table>\n",
       "</div>"
      ],
      "text/plain": [
       "          Episodes  First Aired\n",
       "Original        79         1966"
      ]
     },
     "execution_count": 40,
     "metadata": {},
     "output_type": "execute_result"
    }
   ],
   "source": [
    "# We can EVEN pick columns AND rows\n",
    "star_trek.ix[0:1, 1:3]"
   ]
  },
  {
   "cell_type": "code",
   "execution_count": 43,
   "metadata": {
    "collapsed": false
   },
   "outputs": [
    {
     "data": {
      "text/plain": [
       "Voyager    168\n",
       "DS9        173\n",
       "Name: Episodes, dtype: int64"
      ]
     },
     "execution_count": 43,
     "metadata": {},
     "output_type": "execute_result"
    }
   ],
   "source": [
    "# BY NAME\n",
    "star_trek.ix[['Voyager', 'DS9'], 'Episodes']"
   ]
  },
  {
   "cell_type": "markdown",
   "metadata": {},
   "source": [
    "So, that's the basics of dataframes. In the next section we'll have a look at a bigger dataframe, that we'll load from a file. FANCY"
   ]
  }
 ],
 "metadata": {
  "kernelspec": {
   "display_name": "Python 3",
   "language": "python",
   "name": "python3"
  },
  "language_info": {
   "codemirror_mode": {
    "name": "ipython",
    "version": 3
   },
   "file_extension": ".py",
   "mimetype": "text/x-python",
   "name": "python",
   "nbconvert_exporter": "python",
   "pygments_lexer": "ipython3",
   "version": "3.4.3"
  }
 },
 "nbformat": 4,
 "nbformat_minor": 0
}
