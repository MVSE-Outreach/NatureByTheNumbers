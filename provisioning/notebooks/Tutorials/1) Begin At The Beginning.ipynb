{
 "cells": [
  {
   "cell_type": "markdown",
   "metadata": {},
   "source": [
    "# Hello, I'm a jupyter notebook\n",
    "'Notebook' refers to the fact that this page combines a place to enter `code`  with space for **Markdown** and pictures and stuff.\n",
    "## Powered by IPython\n",
    "You can do all the cool Python-y things you are know and love, but BETTER!\n",
    "## Split into 'cells'\n",
    "Each box is a 'cell', and can be either **Markdown** (a sort of fancy free text thing), or `Python code`."
   ]
  },
  {
   "cell_type": "code",
   "execution_count": 6,
   "metadata": {
    "collapsed": false
   },
   "outputs": [
    {
     "name": "stdout",
     "output_type": "stream",
     "text": [
      "Pikachu\n"
     ]
    }
   ],
   "source": [
    "# This is a Python code cell\n",
    "pokemon = \"Pikachu\"\n",
    "# You can do things that you would normally do in a source file!\n",
    "# Or in the interactive interpreter console, of course\n",
    "# If you print() something the content gets printed out below the cell.\n",
    "print(pokemon)"
   ]
  },
  {
   "cell_type": "code",
   "execution_count": 7,
   "metadata": {
    "collapsed": false
   },
   "outputs": [
    {
     "data": {
      "text/plain": [
       "'Pikachu'"
      ]
     },
     "execution_count": 7,
     "metadata": {},
     "output_type": "execute_result"
    }
   ],
   "source": [
    "# If you \n",
    "pokemon"
   ]
  },
  {
   "cell_type": "markdown",
   "metadata": {},
   "source": [
    "### A note about in[ ] and out[ ]\n",
    "You can see that where I printed the string, it just showed up. However, when I simply wrote it at the end, it got 'captured' as the *output* for that cell. That's why the out [] appears next to it. This comes into play when doing recall and history and things that we won't do today, but it's just worth mentioning. Also, when it is 'captured', it includes information about what kind of variable it is. That's why it has quotes around it, to indicate it is a **string**."
   ]
  },
  {
   "cell_type": "code",
   "execution_count": 4,
   "metadata": {
    "collapsed": false
   },
   "outputs": [
    {
     "data": {
      "text/plain": [
       "4"
      ]
     },
     "execution_count": 4,
     "metadata": {},
     "output_type": "execute_result"
    }
   ],
   "source": [
    "# Arithmetic still works too\n",
    "2+2"
   ]
  },
  {
   "cell_type": "code",
   "execution_count": 8,
   "metadata": {
    "collapsed": true
   },
   "outputs": [],
   "source": [
    "# And you can define functions\n",
    "def pokeBallShout(pokemon_name):\n",
    "    return pokemon_name + \", I choose you!\""
   ]
  },
  {
   "cell_type": "markdown",
   "metadata": {},
   "source": [
    "Just like in a source file, things you define (like `pokemon` and `pokeBallShout`) can be used later."
   ]
  },
  {
   "cell_type": "code",
   "execution_count": 9,
   "metadata": {
    "collapsed": false
   },
   "outputs": [
    {
     "data": {
      "text/plain": [
       "'Pikachu, I choose you!'"
      ]
     },
     "execution_count": 9,
     "metadata": {},
     "output_type": "execute_result"
    }
   ],
   "source": [
    "pokeBallShout(pokemon)"
   ]
  },
  {
   "cell_type": "code",
   "execution_count": null,
   "metadata": {
    "collapsed": true
   },
   "outputs": [],
   "source": []
  }
 ],
 "metadata": {
  "kernelspec": {
   "display_name": "Python 3",
   "language": "python",
   "name": "python3"
  },
  "language_info": {
   "codemirror_mode": {
    "name": "ipython",
    "version": 3
   },
   "file_extension": ".py",
   "mimetype": "text/x-python",
   "name": "python",
   "nbconvert_exporter": "python",
   "pygments_lexer": "ipython3",
   "version": "3.4.3"
  }
 },
 "nbformat": 4,
 "nbformat_minor": 0
}
